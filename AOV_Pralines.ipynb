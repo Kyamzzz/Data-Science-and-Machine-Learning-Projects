{
  "nbformat": 4,
  "nbformat_minor": 0,
  "metadata": {
    "colab": {
      "provenance": [],
      "authorship_tag": "ABX9TyMN1ufGzr79m5qyxFTScyyo",
      "include_colab_link": true
    },
    "kernelspec": {
      "name": "python3",
      "display_name": "Python 3"
    },
    "language_info": {
      "name": "python"
    }
  },
  "cells": [
    {
      "cell_type": "markdown",
      "metadata": {
        "id": "view-in-github",
        "colab_type": "text"
      },
      "source": [
        "<a href=\"https://colab.research.google.com/github/Kyamzzz/GISMA/blob/main/AOV_Pralines.ipynb\" target=\"_parent\"><img src=\"https://colab.research.google.com/assets/colab-badge.svg\" alt=\"Open In Colab\"/></a>"
      ]
    },
    {
      "cell_type": "code",
      "execution_count": null,
      "metadata": {
        "colab": {
          "base_uri": "https://localhost:8080/"
        },
        "id": "pjvt3q2e8u4R",
        "outputId": "f6a4ade8-7a4c-4c9b-c1fe-42aacc45acc7"
      },
      "outputs": [
        {
          "output_type": "stream",
          "name": "stdout",
          "text": [
            "First few rows of sheet: Sheet1\n",
            "            orderTime                         email\n",
            "0 2016-10-21 13:15:06               dark@bluewin.ch\n",
            "1 2016-10-21 13:15:06               dark@bluewin.ch\n",
            "2 2016-10-21 13:15:06               dark@bluewin.ch\n",
            "3 2016-10-21 15:43:41  andre.pelletier@quickline.ch\n",
            "4 2016-10-21 15:43:41  andre.pelletier@quickline.ch\n",
            "First few rows of sheet: Sheet2\n",
            "            orderTime                          email\n",
            "0 2023-10-23 03:51:02  daniela.pellegrini@bluewin.ch\n",
            "1 2023-10-23 03:51:02  daniela.pellegrini@bluewin.ch\n",
            "2 2023-10-23 03:51:02  daniela.pellegrini@bluewin.ch\n",
            "3 2023-10-23 04:11:24          priska.schoeni@gmx.ch\n",
            "4 2023-10-23 04:11:24          priska.schoeni@gmx.ch\n"
          ]
        }
      ],
      "source": [
        "import pandas as pd\n",
        "\n",
        "# Path to your Excel file\n",
        "file_path = 'DZ_JF_Followup.xlsx'\n",
        "\n",
        "# Load the Excel file\n",
        "xl = pd.ExcelFile(file_path)\n",
        "\n",
        "# Get the names of the sheets\n",
        "sheet_names = xl.sheet_names\n",
        "\n",
        "# Load and display the first few rows of each sheet\n",
        "for sheet_name in sheet_names:\n",
        "    df = pd.read_excel(file_path, sheet_name=sheet_name)\n",
        "    print(f\"First few rows of sheet: {sheet_name}\")\n",
        "    print(df.head())\n"
      ]
    },
    {
      "cell_type": "code",
      "source": [
        "# Concatenate the data from both sheets\n",
        "all_data = pd.concat([pd.read_excel(file_path, sheet_name=sheet) for sheet in xl.sheet_names])\n",
        "\n",
        "# Convert the 'orderTime' column to datetime format\n",
        "all_data['orderTime'] = pd.to_datetime(all_data['orderTime'])\n",
        "\n",
        "# Group by 'email' and find the first order date\n",
        "first_order_dates = all_data.groupby('email')['orderTime'].min().reset_index()\n",
        "\n",
        "# Display the result\n",
        "print(first_order_dates)\n"
      ],
      "metadata": {
        "colab": {
          "base_uri": "https://localhost:8080/"
        },
        "id": "0-GRHhc1_oKf",
        "outputId": "67bb247b-d392-4722-c691-9c5727ec747d"
      },
      "execution_count": null,
      "outputs": [
        {
          "output_type": "stream",
          "name": "stdout",
          "text": [
            "                               email           orderTime\n",
            "0       rolfbaumgartner@quickline.ch 2022-12-07 12:28:58\n",
            "1             stevmueller@bluewin.ch 2017-04-18 17:56:44\n",
            "2            .maertu_roth@bluewin.ch 2022-11-27 17:08:18\n",
            "3                  0.dumak@gmail.com 2018-11-23 16:05:38\n",
            "4                00345jmf@bluewin.ch 2019-11-09 15:33:25\n",
            "...                              ...                 ...\n",
            "87774              zynnia@net2000.ch 2022-12-05 13:46:21\n",
            "87775           zysset.andrea@gmx.ch 2022-03-12 20:41:39\n",
            "87776               zysset@gmail.com 2017-10-15 13:49:53\n",
            "87777          zz.migros@meyerhof.ch 2018-05-04 16:51:48\n",
            "87778                zzog@bluewin.ch 2020-10-12 16:57:23\n",
            "\n",
            "[87779 rows x 2 columns]\n"
          ]
        }
      ]
    },
    {
      "cell_type": "code",
      "source": [
        "# Format 'orderTime' in DD.MM.YYYY format\n",
        "first_order_dates['orderTime'] = first_order_dates['orderTime'].dt.strftime('%d.%m.%Y')\n",
        "\n",
        "# Export to CSV\n",
        "csv_file_path = 'first_order_dates.csv'\n",
        "first_order_dates.to_csv(csv_file_path, index=False)\n",
        "\n",
        "print(f\"Data exported to {csv_file_path}\")\n"
      ],
      "metadata": {
        "colab": {
          "base_uri": "https://localhost:8080/"
        },
        "id": "d7T3p_MEASNH",
        "outputId": "a16ec88f-b118-445d-8bde-e3d3d1ae0125"
      },
      "execution_count": null,
      "outputs": [
        {
          "output_type": "stream",
          "name": "stdout",
          "text": [
            "Data exported to first_order_dates.csv\n"
          ]
        }
      ]
    },
    {
      "cell_type": "code",
      "source": [
        "# Path to your Excel file\n",
        "file_path = 'DZ_JF_Followup.xlsx'\n",
        "\n",
        "# Load data from \"Sheet7\"\n",
        "sheet_7_data = pd.read_excel(file_path, sheet_name='Sheet7')\n",
        "\n",
        "# Display the first few rows of the data\n",
        "print(sheet_7_data.head())\n",
        "\n"
      ],
      "metadata": {
        "colab": {
          "base_uri": "https://localhost:8080/"
        },
        "id": "7J4uVPa6JtgA",
        "outputId": "27536e2c-416b-48f9-e7be-b9ad849ee675"
      },
      "execution_count": null,
      "outputs": [
        {
          "output_type": "stream",
          "name": "stdout",
          "text": [
            "            orderTime  orderId  number  orderStatusID  invoiceAmount  \\\n",
            "0 2023-03-01 05:07:18  4054346  279330              7            0.0   \n",
            "1 2023-03-01 07:10:47  4054541  279338              7            0.0   \n",
            "2 2023-03-01 07:15:43  4054553  279339              7            0.0   \n",
            "3 2023-03-01 08:06:37  4054627  279345              7            0.0   \n",
            "4 2023-03-01 08:07:39  4054659  279347              7            0.0   \n",
            "\n",
            "   invoiceAmountNet  paymentStatusDescription  New Attribute  statusId  \\\n",
            "0             -0.24                       NaN            NaN         0   \n",
            "1             -0.24                       NaN            NaN         0   \n",
            "2              0.00                       NaN            NaN         0   \n",
            "3             -0.24                       NaN            NaN         0   \n",
            "4             -0.24                       NaN            NaN         0   \n",
            "\n",
            "   articleNumber  ...                       email  languageIso packunit  \\\n",
            "0   100910400000  ...     patrizia.rota@gmail.com            1      NaN   \n",
            "1   100910400000  ...  vale.picchetti@hotmail.com            1      NaN   \n",
            "2   100915600000  ...  vale.picchetti@hotmail.com            1      NaN   \n",
            "3   100910400000  ...  raffaela60moresi@gmail.com            4      NaN   \n",
            "4   100910400000  ...   caroldelponte@hotmail.com            1      NaN   \n",
            "\n",
            "    unit  CustomersID  Product Category Number of capsules  Account mode2  \\\n",
            "0  Gramm          NaN               NaN                NaN            NaN   \n",
            "1  Gramm          NaN               NaN                NaN            NaN   \n",
            "2  Gramm          NaN               NaN                NaN            NaN   \n",
            "3  Gramm          NaN               NaN                NaN            NaN   \n",
            "4  Gramm          NaN               NaN                NaN            NaN   \n",
            "\n",
            "   Cumulus  Bonus program  \n",
            "0      NaN            NaN  \n",
            "1      NaN            NaN  \n",
            "2      NaN            NaN  \n",
            "3      NaN            NaN  \n",
            "4      NaN            NaN  \n",
            "\n",
            "[5 rows x 23 columns]\n"
          ]
        }
      ]
    },
    {
      "cell_type": "code",
      "source": [
        "import pandas as pd\n",
        "\n",
        "# Path to your Excel file\n",
        "file_path = 'DZ_JF_Followup.xlsx'\n",
        "\n",
        "# Load data from \"Sheet7\"\n",
        "data = pd.read_excel(file_path, sheet_name='Sheet7')\n",
        "\n",
        "# Convert 'OrderTime' to datetime format\n",
        "data['orderTime'] = pd.to_datetime(data['orderTime'])\n",
        "\n",
        "# Group by 'email' and find the first order date\n",
        "first_order_dates = data.groupby('email')['orderTime'].min().reset_index()\n",
        "\n",
        "# Extract the month and year from the first order date\n",
        "first_order_dates['MonthYear'] = first_order_dates['orderTime'].dt.to_period('M')\n",
        "\n",
        "# Count unique customers per month\n",
        "customer_counts_per_month = first_order_dates.groupby('MonthYear').size()\n",
        "\n",
        "# Display the result\n",
        "print(customer_counts_per_month)\n"
      ],
      "metadata": {
        "colab": {
          "base_uri": "https://localhost:8080/"
        },
        "id": "69dFeNuZLsEP",
        "outputId": "6b5890f6-a12b-4059-dd5b-7d8e53629ef4"
      },
      "execution_count": null,
      "outputs": [
        {
          "output_type": "stream",
          "name": "stdout",
          "text": [
            "MonthYear\n",
            "2022-01      110\n",
            "2022-02      495\n",
            "2022-03       52\n",
            "2022-04      287\n",
            "2022-05       29\n",
            "2022-06       54\n",
            "2022-07       41\n",
            "2022-08      344\n",
            "2022-09       42\n",
            "2022-10       32\n",
            "2022-11      427\n",
            "2022-12        1\n",
            "2023-01       14\n",
            "2023-02      492\n",
            "2023-03    12378\n",
            "2023-04      209\n",
            "2023-05       11\n",
            "2023-06        5\n",
            "2023-07        4\n",
            "2023-08        4\n",
            "2023-10       32\n",
            "2023-11        4\n",
            "Freq: M, dtype: int64\n"
          ]
        }
      ]
    },
    {
      "cell_type": "code",
      "source": [
        "import pandas as pd\n",
        "\n",
        "# Path to your Excel file\n",
        "file_path = 'workbook.xlsx'\n",
        "\n",
        "# Load the data from the Excel file\n",
        "data = pd.read_excel(file_path)\n",
        "\n",
        "# Convert 'orderTime' to datetime format\n",
        "data['orderTime'] = pd.to_datetime(data['orderTime'])\n",
        "\n",
        "# Filter for orders with \"Pralines\" in the articleName\n",
        "pralines_data = data[data['articleName'] == 'Pralines']\n",
        "\n",
        "# Filter for orders in March 2023\n",
        "march_2023_data = pralines_data[pralines_data['orderTime'].dt.month == 3]\n",
        "march_2023_data = march_2023_data[march_2023_data['orderTime'].dt.year == 2023]\n",
        "\n",
        "# Identify customers who did not make any purchases before March 2023\n",
        "prior_to_march_2023 = data[data['orderTime'] < '2023-03-01']\n",
        "new_customers_in_march = march_2023_data[~march_2023_data['email'].isin(prior_to_march_2023['email'])]\n",
        "\n",
        "# Count unique new customers in March 2023\n",
        "unique_new_customers_count = new_customers_in_march['email'].nunique()\n",
        "\n",
        "print(f\"Number of unique new customers in March 2023 with 'Pralines': {unique_new_customers_count}\")\n"
      ],
      "metadata": {
        "colab": {
          "base_uri": "https://localhost:8080/"
        },
        "id": "Mh2c38T1cX8z",
        "outputId": "0d26a56d-bb01-4fe3-f460-e7e22ce50c1f"
      },
      "execution_count": null,
      "outputs": [
        {
          "output_type": "stream",
          "name": "stdout",
          "text": [
            "Number of unique new customers in March 2023 with 'Pralines': 8758\n"
          ]
        }
      ]
    },
    {
      "cell_type": "code",
      "source": [
        "import pandas as pd\n",
        "\n",
        "# Path to your Excel file\n",
        "file_path = 'workbook.xlsx'\n",
        "\n",
        "# Load the data from the Excel file\n",
        "data = pd.read_excel(file_path)\n",
        "\n",
        "# Convert 'orderTime' to datetime format\n",
        "data['orderTime'] = pd.to_datetime(data['orderTime'])\n",
        "\n",
        "# Identify customers who made their first purchase in March 2023\n",
        "first_purchases = data.groupby('email')['orderTime'].min().reset_index()\n",
        "march_2023_first_purchases = first_purchases[(first_purchases['orderTime'].dt.month == 3) &\n",
        "                                             (first_purchases['orderTime'].dt.year == 2023)]\n",
        "\n",
        "# Filter the main data to include only these customers\n",
        "march_2023_new_customers = data[data['email'].isin(march_2023_first_purchases['email'])]\n",
        "\n",
        "# From these customers, filter those whose purchase included \"Pralines\"\n",
        "pralines_customers = march_2023_new_customers[march_2023_new_customers['articleName'] == 'Pralines']\n",
        "\n",
        "# Count these unique customers\n",
        "unique_new_customers_with_pralines = pralines_customers['email'].nunique()\n",
        "\n",
        "print(f\"Number of unique new customers in March 2023 with 'Pralines': {unique_new_customers_with_pralines}\")\n"
      ],
      "metadata": {
        "colab": {
          "base_uri": "https://localhost:8080/"
        },
        "id": "RQxf8nLIeq1Z",
        "outputId": "7437ce24-16e8-4397-8637-d4f9793b04f5"
      },
      "execution_count": null,
      "outputs": [
        {
          "output_type": "stream",
          "name": "stdout",
          "text": [
            "Number of unique new customers in March 2023 with 'Pralines': 8764\n"
          ]
        }
      ]
    },
    {
      "cell_type": "code",
      "source": [
        "import pandas as pd\n",
        "\n",
        "# Path to your Excel file\n",
        "file_path = 'workbook.xlsx'\n",
        "\n",
        "# Load the data from the Excel file\n",
        "data = pd.read_excel(file_path)\n",
        "\n",
        "# Convert 'orderTime' to datetime format\n",
        "data['orderTime'] = pd.to_datetime(data['orderTime'])\n",
        "\n",
        "# Identify customers who did not make any purchases before March 2023\n",
        "new_customers = data[data['orderTime'] >= '2023-03-01']\n",
        "existing_customers = data[data['orderTime'] < '2023-03-01']\n",
        "new_customers_in_march = new_customers[~new_customers['email'].isin(existing_customers['email'])]\n",
        "\n",
        "# Filter for orders in March 2023 that include \"Pralines\"\n",
        "pralines_customers = new_customers_in_march[new_customers_in_march['articleName'] == 'Pralines']\n",
        "\n",
        "# Count unique new customers in March 2023\n",
        "unique_new_customers_count = pralines_customers['email'].nunique()\n",
        "\n",
        "print(f\"Number of unique new customers in March 2023 with 'Pralines': {unique_new_customers_count}\")\n"
      ],
      "metadata": {
        "colab": {
          "base_uri": "https://localhost:8080/"
        },
        "id": "DeFYhWTNkWa-",
        "outputId": "dfa056e1-8cc5-4884-c777-f3321f63e74e"
      },
      "execution_count": null,
      "outputs": [
        {
          "output_type": "stream",
          "name": "stdout",
          "text": [
            "Number of unique new customers in March 2023 with 'Pralines': 8852\n"
          ]
        }
      ]
    },
    {
      "cell_type": "code",
      "source": [
        "# Export to CSV\n",
        "csv_file_path = 'unique_new_customers_march_2023_pralines.csv'\n",
        "unique_emails.to_csv(csv_file_path, index=False)\n",
        "\n",
        "print(f\"Email IDs exported to {csv_file_path}\")"
      ],
      "metadata": {
        "colab": {
          "base_uri": "https://localhost:8080/",
          "height": 250
        },
        "id": "1S41eSAR__9H",
        "outputId": "62bb71f9-d80f-46ad-d77c-1d0811376a01"
      },
      "execution_count": null,
      "outputs": [
        {
          "output_type": "error",
          "ename": "NameError",
          "evalue": "ignored",
          "traceback": [
            "\u001b[0;31m---------------------------------------------------------------------------\u001b[0m",
            "\u001b[0;31mNameError\u001b[0m                                 Traceback (most recent call last)",
            "\u001b[0;32m<ipython-input-2-88e583580cb4>\u001b[0m in \u001b[0;36m<cell line: 3>\u001b[0;34m()\u001b[0m\n\u001b[1;32m      1\u001b[0m \u001b[0;31m# Export to CSV\u001b[0m\u001b[0;34m\u001b[0m\u001b[0;34m\u001b[0m\u001b[0m\n\u001b[1;32m      2\u001b[0m \u001b[0mcsv_file_path\u001b[0m \u001b[0;34m=\u001b[0m \u001b[0;34m'unique_new_customers_march_2023_pralines.csv'\u001b[0m\u001b[0;34m\u001b[0m\u001b[0;34m\u001b[0m\u001b[0m\n\u001b[0;32m----> 3\u001b[0;31m \u001b[0munique_emails\u001b[0m\u001b[0;34m.\u001b[0m\u001b[0mto_csv\u001b[0m\u001b[0;34m(\u001b[0m\u001b[0mcsv_file_path\u001b[0m\u001b[0;34m,\u001b[0m \u001b[0mindex\u001b[0m\u001b[0;34m=\u001b[0m\u001b[0;32mFalse\u001b[0m\u001b[0;34m)\u001b[0m\u001b[0;34m\u001b[0m\u001b[0;34m\u001b[0m\u001b[0m\n\u001b[0m\u001b[1;32m      4\u001b[0m \u001b[0;34m\u001b[0m\u001b[0m\n\u001b[1;32m      5\u001b[0m \u001b[0mprint\u001b[0m\u001b[0;34m(\u001b[0m\u001b[0;34mf\"Email IDs exported to {csv_file_path}\"\u001b[0m\u001b[0;34m)\u001b[0m\u001b[0;34m\u001b[0m\u001b[0;34m\u001b[0m\u001b[0m\n",
            "\u001b[0;31mNameError\u001b[0m: name 'unique_emails' is not defined"
          ]
        }
      ]
    },
    {
      "cell_type": "code",
      "source": [
        "import pandas as pd\n",
        "\n",
        "# Path to your Excel file\n",
        "file_path = 'workbook.xlsx'\n",
        "\n",
        "# Load the data from the Excel file\n",
        "data = pd.read_excel(file_path)\n",
        "\n",
        "# Convert 'orderTime' to datetime format\n",
        "data['orderTime'] = pd.to_datetime(data['orderTime'])\n",
        "\n",
        "# Identify customers who did not make any purchases before March 2023\n",
        "new_customers = data[data['orderTime'] >= '2023-03-01']\n",
        "existing_customers = data[data['orderTime'] < '2023-03-01']\n",
        "new_customers_in_march = new_customers[~new_customers['email'].isin(existing_customers['email'])]\n",
        "\n",
        "# Filter for orders in March 2023 that include \"Pralines\"\n",
        "pralines_customers = new_customers_in_march[new_customers_in_march['articleName'] == 'Pralines']\n",
        "\n",
        "# Select unique email IDs\n",
        "unique_emails = pralines_customers['email'].drop_duplicates()\n",
        "\n",
        "# Export to CSV\n",
        "csv_file_path = 'unique_new_customers_march_2023_pralines.csv'\n",
        "unique_emails.to_csv(csv_file_path, index=False)\n",
        "\n",
        "print(f\"Email IDs exported to {csv_file_path}\")\n"
      ],
      "metadata": {
        "colab": {
          "base_uri": "https://localhost:8080/"
        },
        "id": "9Q6s9bjcAMiF",
        "outputId": "487b7c72-ed76-42ec-a28a-c1a46a775fde"
      },
      "execution_count": null,
      "outputs": [
        {
          "output_type": "stream",
          "name": "stdout",
          "text": [
            "Email IDs exported to unique_new_customers_march_2023_pralines.csv\n"
          ]
        }
      ]
    },
    {
      "cell_type": "code",
      "source": [
        "import pandas as pd\n",
        "\n",
        "# Path to the 'Pralines.xlsx' file\n",
        "file_path = 'Pralines.xlsx'\n",
        "\n",
        "# Load data from both sheets\n",
        "orders_data = pd.read_excel(file_path, sheet_name=0)  # Sheet 1 with order details\n",
        "selected_emails = pd.read_excel(file_path, sheet_name=1)  # Sheet 2 with selected emails\n",
        "\n",
        "# Convert 'orderTime' to datetime format in orders data\n",
        "orders_data['orderTime'] = pd.to_datetime(orders_data['orderTime'])\n",
        "\n",
        "# Filter the orders data for selected emails\n",
        "filtered_orders = orders_data[orders_data['email'].isin(selected_emails['Email'])]\n",
        "\n",
        "# Filter for orders from April to October\n",
        "filtered_orders = filtered_orders[filtered_orders['orderTime'].dt.month.isin(range(4, 11))]\n",
        "\n",
        "  # Group by month and calculate unique email count and sum of order amounts\n",
        "  monthly_analysis = filtered_orders.groupby(filtered_orders['orderTime'].dt.to_period('M')).agg(\n",
        "      unique_emails=pd.NamedAgg(column='email', aggfunc=pd.Series.nunique),\n",
        "      total_amount=pd.NamedAgg(column='Amount', aggfunc='sum')\n",
        "  ).reset_index()\n",
        "\n",
        "  # Display the result\n",
        "  print(monthly_analysis)\n"
      ],
      "metadata": {
        "colab": {
          "base_uri": "https://localhost:8080/"
        },
        "id": "scPjCi5VGTli",
        "outputId": "d1824671-15fa-4f59-b9cd-25ebcb2fd57c"
      },
      "execution_count": null,
      "outputs": [
        {
          "output_type": "stream",
          "name": "stdout",
          "text": [
            "  orderTime  unique_emails  total_amount\n",
            "0   2023-04            203     7906.6900\n",
            "1   2023-05            170     3723.5050\n",
            "2   2023-06             88     5313.4950\n",
            "3   2023-07            135     7780.8000\n",
            "4   2023-08            112     3911.3425\n",
            "5   2023-09            147     7621.4100\n",
            "6   2023-10            149    10242.3850\n"
          ]
        }
      ]
    },
    {
      "cell_type": "code",
      "source": [
        "import pandas as pd\n",
        "\n",
        "# Path to the 'Pralines.xlsx' file\n",
        "file_path = 'Pralines.xlsx'\n",
        "\n",
        "# Load data from both sheets\n",
        "orders_data = pd.read_excel(file_path, sheet_name=0)  # Sheet 1 with order details\n",
        "selected_emails = pd.read_excel(file_path, sheet_name=1)  # Sheet 2 with selected emails\n",
        "\n",
        "# Convert 'orderTime' to datetime format in orders data\n",
        "orders_data['orderTime'] = pd.to_datetime(orders_data['orderTime'])\n",
        "\n",
        "# Filter the orders data for selected emails\n",
        "filtered_orders = orders_data[orders_data['email'].isin(selected_emails['Email'])]\n",
        "\n",
        "# Filter for orders from April to October\n",
        "filtered_orders = filtered_orders[filtered_orders['orderTime'].dt.month.isin(range(4, 11))]\n",
        "\n",
        "# Group by email and order date (as date), then sum the amounts for each group\n",
        "grouped_orders = filtered_orders.groupby(['email', filtered_orders['orderTime'].dt.date]).agg(\n",
        "    total_amount=pd.NamedAgg(column='Amount', aggfunc='sum'),\n",
        "    orderDate=pd.NamedAgg(column='orderTime', aggfunc='first')\n",
        ").reset_index()\n",
        "\n",
        "# Convert 'orderDate' back to datetime format (if necessary)\n",
        "grouped_orders['orderDate'] = pd.to_datetime(grouped_orders['orderDate'])\n",
        "\n",
        "# Group by month and calculate AOV\n",
        "monthly_aov = grouped_orders.groupby(grouped_orders['orderDate'].dt.to_period('M')).agg(\n",
        "    AOV=pd.NamedAgg(column='total_amount', aggfunc='mean')\n",
        ").reset_index()\n",
        "\n",
        "# Display the result\n",
        "print(monthly_aov)\n",
        "\n"
      ],
      "metadata": {
        "colab": {
          "base_uri": "https://localhost:8080/"
        },
        "id": "erBDvTxFmvpi",
        "outputId": "e507b1bc-e948-41e2-ca7f-eaf9f332824d"
      },
      "execution_count": null,
      "outputs": [
        {
          "output_type": "stream",
          "name": "stdout",
          "text": [
            "  orderDate        AOV\n",
            "0   2023-04  37.295708\n",
            "1   2023-05  19.805878\n",
            "2   2023-06  57.134355\n",
            "3   2023-07  55.182979\n",
            "4   2023-08  33.430278\n",
            "5   2023-09  48.855192\n",
            "6   2023-10  65.656314\n"
          ]
        }
      ]
    },
    {
      "cell_type": "code",
      "source": [
        "import pandas as pd\n",
        "\n",
        "# Path to the 'Pralines.xlsx' file\n",
        "file_path = 'Pralines.xlsx'\n",
        "\n",
        "# Load data from both sheets\n",
        "orders_data = pd.read_excel(file_path, sheet_name=0)  # Sheet 1 with order details\n",
        "selected_emails = pd.read_excel(file_path, sheet_name=1)  # Sheet 2 with selected emails\n",
        "\n",
        "# Convert 'orderTime' to datetime format in orders data\n",
        "orders_data['orderTime'] = pd.to_datetime(orders_data['orderTime'])\n",
        "\n",
        "# Filter the orders data for selected emails\n",
        "filtered_orders = orders_data[orders_data['email'].isin(selected_emails['Email'])]\n",
        "\n",
        "# Group by month and count the number of orders\n",
        "monthly_order_count = filtered_orders.groupby(filtered_orders['orderTime'].dt.to_period('M')).size().reset_index(name='Number of Orders')\n",
        "\n",
        "# Display the result\n",
        "print(monthly_order_count)\n"
      ],
      "metadata": {
        "colab": {
          "base_uri": "https://localhost:8080/"
        },
        "id": "9QI9zUJEouo6",
        "outputId": "c263ed20-7eda-47a1-b888-3416bcad2d18"
      },
      "execution_count": null,
      "outputs": [
        {
          "output_type": "stream",
          "name": "stdout",
          "text": [
            "  orderTime  Number of Orders\n",
            "0   2023-04               856\n",
            "1   2023-05               880\n",
            "2   2023-06               301\n",
            "3   2023-07               511\n",
            "4   2023-08               362\n",
            "5   2023-09               516\n",
            "6   2023-10               660\n",
            "7   2023-11                60\n"
          ]
        }
      ]
    },
    {
      "cell_type": "code",
      "source": [
        "import pandas as pd\n",
        "\n",
        "# Path to the 'Pralines.xlsx' file\n",
        "file_path = 'Pralines.xlsx'\n",
        "\n",
        "# Load data from both sheets\n",
        "orders_data = pd.read_excel(file_path, sheet_name=0)  # Sheet 1 with order details\n",
        "selected_emails = pd.read_excel(file_path, sheet_name=1)  # Sheet 2 with selected emails\n",
        "\n",
        "# Convert 'orderTime' to datetime format in orders data\n",
        "orders_data['orderTime'] = pd.to_datetime(orders_data['orderTime'])\n",
        "\n",
        "# Filter the orders data for selected emails\n",
        "filtered_orders = orders_data[orders_data['email'].isin(selected_emails['Email'])]\n",
        "\n",
        "# Filter for orders from April to October\n",
        "filtered_orders = filtered_orders[filtered_orders['orderTime'].dt.month.isin(range(4, 11))]\n",
        "\n",
        "# Identify orders with a discount (negative value)\n",
        "filtered_orders['has_discount'] = filtered_orders['Amount'] < 0\n",
        "\n",
        "# Group by month, count total orders, and count orders with discounts\n",
        "monthly_analysis = filtered_orders.groupby(filtered_orders['orderTime'].dt.to_period('M')).agg(\n",
        "    total_orders=pd.NamedAgg(column='email', aggfunc='size'),\n",
        "    discounted_orders=pd.NamedAgg(column='has_discount', aggfunc='sum')\n",
        ").reset_index()\n",
        "\n",
        "# Display the result\n",
        "print(monthly_analysis)\n"
      ],
      "metadata": {
        "colab": {
          "base_uri": "https://localhost:8080/"
        },
        "id": "UsBRKBFREgPo",
        "outputId": "4c261557-0901-4832-80c5-c95b2757a59d"
      },
      "execution_count": null,
      "outputs": [
        {
          "output_type": "stream",
          "name": "stdout",
          "text": [
            "  orderTime  total_orders  discounted_orders\n",
            "0   2023-04           856                191\n",
            "1   2023-05           880                164\n",
            "2   2023-06           301                 28\n",
            "3   2023-07           511                103\n",
            "4   2023-08           362                 66\n",
            "5   2023-09           516                123\n",
            "6   2023-10           660                122\n"
          ]
        }
      ]
    },
    {
      "cell_type": "code",
      "source": [
        "import pandas as pd\n",
        "\n",
        "# Path to the 'Pralines.xlsx' file\n",
        "file_path = 'Pralines.xlsx'\n",
        "\n",
        "# Load data from both sheets\n",
        "orders_data = pd.read_excel(file_path, sheet_name=0)  # Sheet 1 with order details\n",
        "selected_emails = pd.read_excel(file_path, sheet_name=1)  # Sheet 2 with selected emails\n",
        "\n",
        "# Filter the orders data to include only the selected emails\n",
        "filtered_orders = orders_data[orders_data['email'].isin(selected_emails['Email'])]\n",
        "\n",
        "# Calculate the sum of 'Amount' for these filtered rows\n",
        "total_revenue = filtered_orders['Amount'].sum()\n",
        "\n",
        "# Display the total revenue\n",
        "print(f\"Total Revenue generated by selected users: {total_revenue}\")\n"
      ],
      "metadata": {
        "colab": {
          "base_uri": "https://localhost:8080/"
        },
        "id": "LlJJAPTBGiUd",
        "outputId": "dc96aff9-7ac0-42c1-8ee8-f538d61dc1e7"
      },
      "execution_count": null,
      "outputs": [
        {
          "output_type": "stream",
          "name": "stdout",
          "text": [
            "Total Revenue generated by selected users: 47322.957500000004\n"
          ]
        }
      ]
    },
    {
      "cell_type": "code",
      "source": [
        "import pandas as pd\n",
        "\n",
        "# Path to the 'Pralines.xlsx' file\n",
        "file_path = 'Pralines.xlsx'\n",
        "\n",
        "# Load data from both sheets\n",
        "orders_data = pd.read_excel(file_path, sheet_name=0)  # Sheet 1 with order details\n",
        "selected_emails = pd.read_excel(file_path, sheet_name=1)  # Sheet 2 with selected emails\n",
        "\n",
        "# Convert 'orderTime' to datetime format in orders data\n",
        "orders_data['orderTime'] = pd.to_datetime(orders_data['orderTime'])\n",
        "\n",
        "# Filter the orders data for selected emails and orders from April to October\n",
        "filtered_orders = orders_data[orders_data['email'].isin(selected_emails['Email'])]\n",
        "filtered_orders = filtered_orders[filtered_orders['orderTime'].dt.month.isin(range(4, 11))]\n",
        "\n",
        "# Calculate the total revenue\n",
        "total_revenue = filtered_orders['Amount'].sum()\n",
        "\n",
        "# Count the number of unique orders (same email and same date count as one order)\n",
        "unique_orders_count = filtered_orders.groupby(['email', filtered_orders['orderTime'].dt.date]).ngroups\n",
        "\n",
        "# Calculate AOV\n",
        "AOV = total_revenue / unique_orders_count if unique_orders_count else 0\n",
        "\n",
        "# Display the AOV\n",
        "print(f\"Total Revenue from April to October: {total_revenue}\")\n",
        "print(f\"Total Number of Unique Orders: {unique_orders_count}\")\n",
        "print(f\"Average Order Value (AOV) from April to October: {AOV}\")"
      ],
      "metadata": {
        "colab": {
          "base_uri": "https://localhost:8080/"
        },
        "id": "NhRxmB_hZ9Le",
        "outputId": "1fbbf755-c0ab-49ed-a6c9-4623bfc953e0"
      },
      "execution_count": null,
      "outputs": [
        {
          "output_type": "stream",
          "name": "stdout",
          "text": [
            "Total Revenue from April to October: 46499.6275\n",
            "Total Number of Unique Orders: 1063\n",
            "Average Order Value (AOV) from April to October: 43.74376999059267\n"
          ]
        }
      ]
    },
    {
      "cell_type": "code",
      "source": [
        "import pandas as pd\n",
        "\n",
        "# Path to the 'Pralines.xlsx' file\n",
        "file_path = 'Pralines.xlsx'\n",
        "\n",
        "# Load data from both sheets\n",
        "orders_data = pd.read_excel(file_path, sheet_name=0)  # Sheet 1 with order details\n",
        "selected_emails = pd.read_excel(file_path, sheet_name=1)  # Sheet 2 with selected emails\n",
        "\n",
        "# Convert 'orderTime' to datetime format in orders data\n",
        "orders_data['orderTime'] = pd.to_datetime(orders_data['orderTime'])\n",
        "\n",
        "# Filter the orders data for selected emails\n",
        "filtered_orders = orders_data[orders_data['email'].isin(selected_emails['email'])]\n",
        "\n",
        "# Further filter for orders from April to October\n",
        "time_filtered_orders = filtered_orders[filtered_orders['orderTime'].dt.month.isin(range(4, 11))]\n",
        "\n",
        "# Calculate total revenue for April to October\n",
        "total_revenue = time_filtered_orders['amount'].sum()\n",
        "\n",
        "# Count the number of unique orders from April to October\n",
        "unique_orders_count = time_filtered_orders['orderId'].nunique()\n",
        "\n",
        "# Calculate AOV for April to October\n",
        "AOV = total_revenue / unique_orders_count if unique_orders_count else 0\n",
        "\n",
        "# Display the results\n",
        "print(f\"Total Revenue (April to October): {total_revenue}\")\n",
        "print(f\"Total Number of Unique Orders (April to October): {unique_orders_count}\")\n",
        "print(f\"Average Order Value (AOV) (April to October): {AOV}\")\n",
        "\n",
        "# Calculating consolidated metrics for the entire period\n",
        "consolidated_revenue = filtered_orders['amount'].sum()\n",
        "consolidated_unique_orders = filtered_orders['orderId'].nunique()\n",
        "consolidated_AOV = consolidated_revenue / consolidated_unique_orders if consolidated_unique_orders else 0\n",
        "\n",
        "print(f\"\\nConsolidated Revenue (April to October): {consolidated_revenue}\")\n",
        "print(f\"Consolidated Unique Orders (April to October): {consolidated_unique_orders}\")\n",
        "print(f\"Consolidated AOV (April to October): {consolidated_AOV}\")\n"
      ],
      "metadata": {
        "colab": {
          "base_uri": "https://localhost:8080/"
        },
        "id": "HSEr9G33eHt6",
        "outputId": "8258bd67-b058-417e-b480-ffb9639447c0"
      },
      "execution_count": null,
      "outputs": [
        {
          "output_type": "stream",
          "name": "stdout",
          "text": [
            "Total Revenue (April to October): 46499.6275\n",
            "Total Number of Unique Orders (April to October): 1081\n",
            "Average Order Value (AOV) (April to October): 43.015381591119336\n",
            "\n",
            "Consolidated Revenue (April to October): 46499.6275\n",
            "Consolidated Unique Orders (April to October): 1081\n",
            "Consolidated AOV (April to October): 43.015381591119336\n"
          ]
        }
      ]
    },
    {
      "cell_type": "code",
      "source": [
        "import pandas as pd\n",
        "\n",
        "# Path to the 'Pralines.xlsx' file\n",
        "file_path = 'Pralines.xlsx'\n",
        "\n",
        "# Load data from both sheets\n",
        "orders_data = pd.read_excel(file_path, sheet_name=0)  # Sheet 1 with order details\n",
        "selected_emails = pd.read_excel(file_path, sheet_name=1)  # Sheet 2 with selected emails\n",
        "\n",
        "# Convert 'orderTime' to datetime format in orders data\n",
        "orders_data['orderTime'] = pd.to_datetime(orders_data['orderTime'])\n",
        "\n",
        "# Filter the orders data for selected emails\n",
        "filtered_orders = orders_data[orders_data['email'].isin(selected_emails['email'])]\n",
        "\n",
        "# Further filter for orders from April to October\n",
        "time_filtered_orders = filtered_orders[filtered_orders['orderTime'].dt.month.isin(range(4, 11))]\n",
        "\n",
        "# Calculate monthly revenue, unique orders, and AOV\n",
        "monthly_stats = time_filtered_orders.groupby(time_filtered_orders['orderTime'].dt.to_period('M')).agg(\n",
        "    total_revenue=('amount', 'sum'),\n",
        "    unique_orders=('orderId', pd.Series.nunique),\n",
        ").reset_index()\n",
        "\n",
        "monthly_stats['AOV'] = monthly_stats['total_revenue'] / monthly_stats['unique_orders']\n",
        "\n",
        "# Calculate consolidated totals for the entire period\n",
        "consolidated_revenue = monthly_stats['total_revenue'].sum()\n",
        "consolidated_unique_orders = time_filtered_orders['orderId'].nunique()\n",
        "consolidated_AOV = consolidated_revenue / consolidated_unique_orders if consolidated_unique_orders else 0\n",
        "\n",
        "# Display the results\n",
        "print(\"Monthly Breakdown (April to October):\")\n",
        "print(monthly_stats)\n",
        "print(\"\\nConsolidated Figures (April to October):\")\n",
        "print(f\"Total Revenue: {consolidated_revenue}\")\n",
        "print(f\"Total Unique Orders: {consolidated_unique_orders}\")\n",
        "print(f\"Average Order Value (AOV): {consolidated_AOV}\")\n"
      ],
      "metadata": {
        "colab": {
          "base_uri": "https://localhost:8080/"
        },
        "id": "4uLWZsHKfeh9",
        "outputId": "1ef3d9bb-57d0-4dad-bfa2-52b1f33dfc60"
      },
      "execution_count": null,
      "outputs": [
        {
          "output_type": "stream",
          "name": "stdout",
          "text": [
            "Monthly Breakdown (April to October):\n",
            "  orderTime  total_revenue  unique_orders        AOV\n",
            "0   2023-04      7906.6900            221  35.776878\n",
            "1   2023-05      3723.5050            192  19.393255\n",
            "2   2023-06      5313.4950             93  57.134355\n",
            "3   2023-07      7780.8000            141  55.182979\n",
            "4   2023-08      3911.3425            119  32.868424\n",
            "5   2023-09      7621.4100            159  47.933396\n",
            "6   2023-10     10242.3850            156  65.656314\n",
            "\n",
            "Consolidated Figures (April to October):\n",
            "Total Revenue: 46499.6275\n",
            "Total Unique Orders: 1081\n",
            "Average Order Value (AOV): 43.015381591119336\n"
          ]
        }
      ]
    },
    {
      "cell_type": "code",
      "source": [
        "import pandas as pd\n",
        "\n",
        "# Path to the 'Pralines.xlsx' file\n",
        "file_path = 'Pralines.xlsx'\n",
        "\n",
        "# Load data from both sheets\n",
        "orders_data = pd.read_excel(file_path, sheet_name=0)  # Sheet 1 with order details\n",
        "selected_emails = pd.read_excel(file_path, sheet_name=1)  # Sheet 2 with selected emails\n",
        "\n",
        "# Convert 'orderTime' to datetime format in orders data\n",
        "orders_data['orderTime'] = pd.to_datetime(orders_data['orderTime'])\n",
        "\n",
        "# Filter the orders data for selected emails\n",
        "filtered_orders = orders_data[orders_data['email'].isin(selected_emails['email'])]\n",
        "\n",
        "# Further filter for orders from April to October\n",
        "time_filtered_orders = filtered_orders[filtered_orders['orderTime'].dt.month.isin(range(4, 11))]\n",
        "\n",
        "# Count the number of item orders per month\n",
        "monthly_item_orders_count = time_filtered_orders.groupby(time_filtered_orders['orderTime'].dt.to_period('M')).size().reset_index(name='Number of Item Orders')\n",
        "\n",
        "# Display the result\n",
        "print(\"Number of Item Orders per Month (April to October):\")\n",
        "print(monthly_item_orders_count)\n"
      ],
      "metadata": {
        "colab": {
          "base_uri": "https://localhost:8080/"
        },
        "id": "3NrcXUHriTVC",
        "outputId": "f65b74bf-6cce-41d5-dfd8-7d46a9ed9dd0"
      },
      "execution_count": null,
      "outputs": [
        {
          "output_type": "stream",
          "name": "stdout",
          "text": [
            "Number of Item Orders per Month (April to October):\n",
            "  orderTime  Number of Item Orders\n",
            "0   2023-04                    856\n",
            "1   2023-05                    880\n",
            "2   2023-06                    301\n",
            "3   2023-07                    511\n",
            "4   2023-08                    362\n",
            "5   2023-09                    516\n",
            "6   2023-10                    660\n"
          ]
        }
      ]
    }
  ]
}