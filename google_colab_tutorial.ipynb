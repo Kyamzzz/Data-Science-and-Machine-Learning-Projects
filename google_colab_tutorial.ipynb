{
  "cells": [
    {
      "cell_type": "markdown",
      "metadata": {
        "id": "view-in-github",
        "colab_type": "text"
      },
      "source": [
        "<a href=\"https://colab.research.google.com/github/Kyamzzz/GISMA/blob/main/google_colab_tutorial.ipynb\" target=\"_parent\"><img src=\"https://colab.research.google.com/assets/colab-badge.svg\" alt=\"Open In Colab\"/></a>"
      ]
    },
    {
      "cell_type": "markdown",
      "metadata": {
        "id": "-6dCJddpVgjH"
      },
      "source": [
        "# Google Colab Tutorial\n",
        "\n",
        "> Indented block\n",
        "\n",
        "\n",
        "\n",
        "- By Prof. Dr. Mohammad Mahdavi\n",
        "- [GISMA University of Applied Sciences](https://www.gisma.com/)"
      ]
    },
    {
      "cell_type": "code",
      "execution_count": null,
      "metadata": {
        "id": "b8wMb-VzJLt3"
      },
      "outputs": [],
      "source": []
    },
    {
      "cell_type": "markdown",
      "metadata": {
        "id": "VnMK9PcOXdsS"
      },
      "source": [
        "[Jupyter Notebook](https://jupyter.org/) (formerly IPython Notebook) is a web-based interactive computational environment for creating notebook documents. In these notebooks, you can write both textual reports and executable codes. [Google Colab](https://colab.research.google.com/) allows you to create Jupyter Notebooks to write and execute Python in your browser using Google's servers. This page is an example of a Jupyter Notebook (or more specifically a Colab Notebook). In this short tutorial, we will review how to work with these Jupyter/Colab Notebooks."
      ]
    },
    {
      "cell_type": "markdown",
      "metadata": {
        "id": "pB13NXoPk8DR"
      },
      "source": [
        "## Creating/Uploading Jupyter Notebooks\n",
        "\n",
        "You can create or upload a new Jupyter Notebook via the `File` menu. "
      ]
    },
    {
      "cell_type": "markdown",
      "metadata": {
        "id": "VbBcSQdLWHMY"
      },
      "source": [
        "## Adding Text Cells\n",
        "\n",
        "You can add text cells by clicking on the above `+Text` button. You can write **decorated** reports in these text cells using the [markdown language.](https://www.markdownguide.org/basic-syntax/)"
      ]
    },
    {
      "cell_type": "markdown",
      "metadata": {
        "id": "WhYMGQThWyuZ"
      },
      "source": [
        "## Adding Code Cells\n",
        "\n",
        "You can add Python code cells by clicking on the above `+Code` button. Run your codes using the play button."
      ]
    },
    {
      "cell_type": "code",
      "execution_count": null,
      "metadata": {
        "colab": {
          "base_uri": "https://localhost:8080/"
        },
        "id": "iFYzaV2pXEul",
        "outputId": "8a78aba7-b314-4c62-c4d4-e6b8f46003c8"
      },
      "outputs": [
        {
          "name": "stdout",
          "output_type": "stream",
          "text": [
            "Hello World!\n"
          ]
        }
      ],
      "source": [
        "print(\"Hello World!\")"
      ]
    },
    {
      "cell_type": "markdown",
      "metadata": {
        "id": "1gNSQQzGXKAx"
      },
      "source": [
        "## Adding Images\n",
        "\n",
        "If you need to add any image to your Jupyter Notebook, please always embed your image via the below sample code. Otherwise, your image might not be shown in the final exported version of the Jupyter Notebook, when you submit it without attaching the image. Note that `image_address` can be a URL or the path of your image file on your file system. "
      ]
    },
    {
      "cell_type": "code",
      "execution_count": null,
      "metadata": {
        "colab": {
          "base_uri": "https://localhost:8080/",
          "height": 237
        },
        "id": "99b2LaGQYh3E",
        "outputId": "dcb76ac3-3d55-447f-c264-6032c85a8739"
      },
      "outputs": [
        {
          "data": {
            "image/jpeg": "[encoded data removed]",
            "text/plain": [
              "<IPython.core.display.Image object>"
            ]
          },
          "execution_count": 2,
          "metadata": {},
          "output_type": "execute_result"
        }
      ],
      "source": [
        "import IPython.display\n",
        "\n",
        "image_address = \"https://upload.wikimedia.org/wikipedia/commons/thumb/3/3a/Cat03.jpg/220px-Cat03.jpg\"    # or for example \"image.jpg\"\n",
        "IPython.display.Image(image_address)"
      ]
    },
    {
      "cell_type": "markdown",
      "metadata": {
        "id": "imEB8c1eZ11O"
      },
      "source": [
        "## Uploading a Dataset\n",
        "\n",
        "You can upload your own data into Jupyter Notebooks from your local computer. The below code cell allows you to upload a local file to Colab. For example, we upload the `iris.csv` dataset."
      ]
    },
    {
      "cell_type": "code",
      "execution_count": null,
      "metadata": {
        "colab": {
          "background_save": true,
          "base_uri": "https://localhost:8080/",
          "height": 39
        },
        "id": "b7wIWja7jYe4",
        "outputId": "52366278-4e40-46f3-b6ba-159cb4bb24b6"
      },
      "outputs": [
        {
          "data": {
            "text/html": [
              "\n",
              "     <input type=\"file\" id=\"files-9bd92abc-4cd0-40cd-9392-2218888523f9\" name=\"files[]\" multiple disabled\n",
              "        style=\"border:none\" />\n",
              "     <output id=\"result-9bd92abc-4cd0-40cd-9392-2218888523f9\">\n",
              "      Upload widget is only available when the cell has been executed in the\n",
              "      current browser session. Please rerun this cell to enable.\n",
              "      </output>\n",
              "      <script>// Copyright 2017 Google LLC\n",
              "//\n",
              "// Licensed under the Apache License, Version 2.0 (the \"License\");\n",
              "// you may not use this file except in compliance with the License.\n",
              "// You may obtain a copy of the License at\n",
              "//\n",
              "//      http://www.apache.org/licenses/LICENSE-2.0\n",
              "//\n",
              "// Unless required by applicable law or agreed to in writing, software\n",
              "// distributed under the License is distributed on an \"AS IS\" BASIS,\n",
              "// WITHOUT WARRANTIES OR CONDITIONS OF ANY KIND, either express or implied.\n",
              "// See the License for the specific language governing permissions and\n",
              "// limitations under the License.\n",
              "\n",
              "/**\n",
              " * @fileoverview Helpers for google.colab Python module.\n",
              " */\n",
              "(function(scope) {\n",
              "function span(text, styleAttributes = {}) {\n",
              "  const element = document.createElement('span');\n",
              "  element.textContent = text;\n",
              "  for (const key of Object.keys(styleAttributes)) {\n",
              "    element.style[key] = styleAttributes[key];\n",
              "  }\n",
              "  return element;\n",
              "}\n",
              "\n",
              "// Max number of bytes which will be uploaded at a time.\n",
              "const MAX_PAYLOAD_SIZE = 100 * 1024;\n",
              "\n",
              "function _uploadFiles(inputId, outputId) {\n",
              "  const steps = uploadFilesStep(inputId, outputId);\n",
              "  const outputElement = document.getElementById(outputId);\n",
              "  // Cache steps on the outputElement to make it available for the next call\n",
              "  // to uploadFilesContinue from Python.\n",
              "  outputElement.steps = steps;\n",
              "\n",
              "  return _uploadFilesContinue(outputId);\n",
              "}\n",
              "\n",
              "// This is roughly an async generator (not supported in the browser yet),\n",
              "// where there are multiple asynchronous steps and the Python side is going\n",
              "// to poll for completion of each step.\n",
              "// This uses a Promise to block the python side on completion of each step,\n",
              "// then passes the result of the previous step as the input to the next step.\n",
              "function _uploadFilesContinue(outputId) {\n",
              "  const outputElement = document.getElementById(outputId);\n",
              "  const steps = outputElement.steps;\n",
              "\n",
              "  const next = steps.next(outputElement.lastPromiseValue);\n",
              "  return Promise.resolve(next.value.promise).then((value) => {\n",
              "    // Cache the last promise value to make it available to the next\n",
              "    // step of the generator.\n",
              "    outputElement.lastPromiseValue = value;\n",
              "    return next.value.response;\n",
              "  });\n",
              "}\n",
              "\n",
              "/**\n",
              " * Generator function which is called between each async step of the upload\n",
              " * process.\n",
              " * @param {string} inputId Element ID of the input file picker element.\n",
              " * @param {string} outputId Element ID of the output display.\n",
              " * @return {!Iterable<!Object>} Iterable of next steps.\n",
              " */\n",
              "function* uploadFilesStep(inputId, outputId) {\n",
              "  const inputElement = document.getElementById(inputId);\n",
              "  inputElement.disabled = false;\n",
              "\n",
              "  const outputElement = document.getElementById(outputId);\n",
              "  outputElement.innerHTML = '';\n",
              "\n",
              "  const pickedPromise = new Promise((resolve) => {\n",
              "    inputElement.addEventListener('change', (e) => {\n",
              "      resolve(e.target.files);\n",
              "    });\n",
              "  });\n",
              "\n",
              "  const cancel = document.createElement('button');\n",
              "  inputElement.parentElement.appendChild(cancel);\n",
              "  cancel.textContent = 'Cancel upload';\n",
              "  const cancelPromise = new Promise((resolve) => {\n",
              "    cancel.onclick = () => {\n",
              "      resolve(null);\n",
              "    };\n",
              "  });\n",
              "\n",
              "  // Wait for the user to pick the files.\n",
              "  const files = yield {\n",
              "    promise: Promise.race([pickedPromise, cancelPromise]),\n",
              "    response: {\n",
              "      action: 'starting',\n",
              "    }\n",
              "  };\n",
              "\n",
              "  cancel.remove();\n",
              "\n",
              "  // Disable the input element since further picks are not allowed.\n",
              "  inputElement.disabled = true;\n",
              "\n",
              "  if (!files) {\n",
              "    return {\n",
              "      response: {\n",
              "        action: 'complete',\n",
              "      }\n",
              "    };\n",
              "  }\n",
              "\n",
              "  for (const file of files) {\n",
              "    const li = document.createElement('li');\n",
              "    li.append(span(file.name, {fontWeight: 'bold'}));\n",
              "    li.append(span(\n",
              "        `(${file.type || 'n/a'}) - ${file.size} bytes, ` +\n",
              "        `last modified: ${\n",
              "            file.lastModifiedDate ? file.lastModifiedDate.toLocaleDateString() :\n",
              "                                    'n/a'} - `));\n",
              "    const percent = span('0% done');\n",
              "    li.appendChild(percent);\n",
              "\n",
              "    outputElement.appendChild(li);\n",
              "\n",
              "    const fileDataPromise = new Promise((resolve) => {\n",
              "      const reader = new FileReader();\n",
              "      reader.onload = (e) => {\n",
              "        resolve(e.target.result);\n",
              "      };\n",
              "      reader.readAsArrayBuffer(file);\n",
              "    });\n",
              "    // Wait for the data to be ready.\n",
              "    let fileData = yield {\n",
              "      promise: fileDataPromise,\n",
              "      response: {\n",
              "        action: 'continue',\n",
              "      }\n",
              "    };\n",
              "\n",
              "    // Use a chunked sending to avoid message size limits. See b/62115660.\n",
              "    let position = 0;\n",
              "    do {\n",
              "      const length = Math.min(fileData.byteLength - position, MAX_PAYLOAD_SIZE);\n",
              "      const chunk = new Uint8Array(fileData, position, length);\n",
              "      position += length;\n",
              "\n",
              "      const base64 = btoa(String.fromCharCode.apply(null, chunk));\n",
              "      yield {\n",
              "        response: {\n",
              "          action: 'append',\n",
              "          file: file.name,\n",
              "          data: base64,\n",
              "        },\n",
              "      };\n",
              "\n",
              "      let percentDone = fileData.byteLength === 0 ?\n",
              "          100 :\n",
              "          Math.round((position / fileData.byteLength) * 100);\n",
              "      percent.textContent = `${percentDone}% done`;\n",
              "\n",
              "    } while (position < fileData.byteLength);\n",
              "  }\n",
              "\n",
              "  // All done.\n",
              "  yield {\n",
              "    response: {\n",
              "      action: 'complete',\n",
              "    }\n",
              "  };\n",
              "}\n",
              "\n",
              "scope.google = scope.google || {};\n",
              "scope.google.colab = scope.google.colab || {};\n",
              "scope.google.colab._files = {\n",
              "  _uploadFiles,\n",
              "  _uploadFilesContinue,\n",
              "};\n",
              "})(self);\n",
              "</script> "
            ],
            "text/plain": [
              "<IPython.core.display.HTML object>"
            ]
          },
          "metadata": {},
          "output_type": "display_data"
        }
      ],
      "source": [
        "import google.colab\n",
        "\n",
        "uploaded = google.colab.files.upload()"
      ]
    },
    {
      "cell_type": "markdown",
      "metadata": {
        "id": "yvEx-7wzkfu_"
      },
      "source": [
        "After uploading the `iris.csv` file, we can now load this dataset and use it in our Jupyter Notebook using the below code cell."
      ]
    },
    {
      "cell_type": "code",
      "execution_count": null,
      "metadata": {
        "id": "u815Ql77kA33"
      },
      "outputs": [],
      "source": [
        "import pandas as pd\n",
        "\n",
        "df = pd.read_csv(\"iris.csv\")\n",
        "df.head()"
      ]
    },
    {
      "cell_type": "markdown",
      "metadata": {
        "id": "a1-JNihnZ-Yq"
      },
      "source": [
        "## Saving the Jupyter Notebook\n",
        "\n",
        "Once you save your Jupyter Notebook via `Files > Save`, the current notebook will be saved in the `Colab Notebooks` folder on your Google Drive."
      ]
    },
    {
      "cell_type": "markdown",
      "metadata": {
        "id": "jXF5DWhjaCMB"
      },
      "source": [
        "## Exporting the Jupyter Notebook\n",
        "\n",
        "For submitting your assignments, you need to convert your Jupyter Notebook to an `HTML` file. If your Jupyter Notebook is already loaded on Google Colab via the left pane, you can simply convert your notebook to HTML via the below command. Note that you should replace `google_colab_tutorial.ipynb` with the path/name of your loaded Jupyter Notebook. Then, you can press the refresh button on the left pane and see/download the HTML version of your notebook. Watch this [video](https://www.youtube.com/watch?v=3vfRhVL5DyM) for more information."
      ]
    },
    {
      "cell_type": "code",
      "execution_count": null,
      "metadata": {
        "id": "AcwReZNF4oDL"
      },
      "outputs": [],
      "source": [
        "!jupyter nbconvert --to html google_colab_tutorial.ipynb"
      ]
    },
    {
      "cell_type": "markdown",
      "metadata": {
        "id": "Sij5TGF_hWxZ"
      },
      "source": [
        "## More Resources\n",
        "\n",
        "- [Welcome to Colab](https://colab.research.google.com/)\n",
        "- [Introduction to Colab](https://www.youtube.com/watch?v=inN8seMm7UI)\n",
        "- [Overview of Colaboratory](/notebooks/basic_features_overview.ipynb)\n",
        "- [Guide to Markdown](/notebooks/markdown_guide.ipynb)\n",
        "- [Importing Libraries and Installing Dependencies](/notebooks/snippets/importing_libraries.ipynb)\n",
        "- [Saving and Loading Notebooks in GitHub](https://colab.research.google.com/github/googlecolab/colabtools/blob/main/notebooks/colab-github-demo.ipynb)\n",
        "- [Interactive Forms](/notebooks/forms.ipynb)\n",
        "- [Interactive Widgets](/notebooks/widgets.ipynb)\n",
        "- [Loading Data: Drive, Sheets, and Google Cloud Storage](/notebooks/io.ipynb) \n",
        "\n",
        "\n"
      ]
    }
  ],
  "metadata": {
    "colab": {
      "provenance": [],
      "include_colab_link": true
    },
    "kernelspec": {
      "display_name": "Python 3",
      "name": "python3"
    },
    "language_info": {
      "name": "python"
    }
  },
  "nbformat": 4,
  "nbformat_minor": 0
}