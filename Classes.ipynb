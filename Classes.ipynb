{
  "cells": [
    {
      "cell_type": "markdown",
      "metadata": {
        "id": "view-in-github",
        "colab_type": "text"
      },
      "source": [
        "<a href=\"https://colab.research.google.com/github/Kyamzzz/GISMA/blob/main/Classes.ipynb\" target=\"_parent\"><img src=\"https://colab.research.google.com/assets/colab-badge.svg\" alt=\"Open In Colab\"/></a>"
      ]
    },
    {
      "cell_type": "markdown",
      "id": "isolated-catholic",
      "metadata": {
        "id": "isolated-catholic"
      },
      "source": [
        "# Classes"
      ]
    },
    {
      "cell_type": "markdown",
      "id": "valuable-coupon",
      "metadata": {
        "id": "valuable-coupon"
      },
      "source": [
        "## Course Class\n",
        "Define a course class with the followings:\n",
        "- A `code` attribute.\n",
        "- A `name` attribute.\n",
        "- A `credits` attribute.\n",
        "- A `semester` attribute.\n",
        "- An `instructor` attribute.\n",
        "- An `__init__` method.\n",
        "- A `__str__` method."
      ]
    },
    {
      "cell_type": "code",
      "execution_count": null,
      "id": "e6eee1fd",
      "metadata": {
        "id": "e6eee1fd"
      },
      "outputs": [],
      "source": [
        "class Course:\n",
        "  def __init__(self,code,name,credits,semester,instructor):\n",
        "    self.code = code\n",
        "    self.name = name\n",
        "    self.credits = credits\n",
        "    self.semester = semester\n",
        "    self.instructor = instructor\n",
        "\n",
        "  def __str__(self):\n",
        "    return f\"{self.code},{self.name},{self.credits},{self.semester},{self.instructor}\""
      ]
    },
    {
      "cell_type": "code",
      "source": [
        "my_course = Course(code = 504, name = \"Python\", credits = 4, semester = \"First\", instructor = \"Charsi\")"
      ],
      "metadata": {
        "id": "Jc4Qnx8cSRfe"
      },
      "id": "Jc4Qnx8cSRfe",
      "execution_count": null,
      "outputs": []
    },
    {
      "cell_type": "code",
      "source": [
        "my_course.instructor"
      ],
      "metadata": {
        "colab": {
          "base_uri": "https://localhost:8080/",
          "height": 36
        },
        "id": "MBPZeEabT_y0",
        "outputId": "2d657a39-500b-463d-fbad-672d34fbfe5a"
      },
      "id": "MBPZeEabT_y0",
      "execution_count": null,
      "outputs": [
        {
          "output_type": "execute_result",
          "data": {
            "text/plain": [
              "'Charsi'"
            ],
            "application/vnd.google.colaboratory.intrinsic+json": {
              "type": "string"
            }
          },
          "metadata": {},
          "execution_count": 12
        }
      ]
    },
    {
      "cell_type": "markdown",
      "metadata": {
        "id": "MRELRcFaL9fQ"
      },
      "source": [
        "## Student Class\n",
        "Define a student class with the followings:\n",
        "- A `first_name` attribute.\n",
        "- A `last_name` attribute.\n",
        "- A `number` attribute.\n",
        "- A `courses` attribute that stores a dictionary of passed **course objects** and their mark.\n",
        "- An `__init__` method.\n",
        "- A `__str__` method.\n",
        "- A `get_gpa` method.\n",
        "- A `set_course_mark` method."
      ],
      "id": "MRELRcFaL9fQ"
    },
    {
      "cell_type": "code",
      "execution_count": null,
      "id": "according-purse",
      "metadata": {
        "id": "according-purse"
      },
      "outputs": [],
      "source": [
        "class Course:\n",
        "    def __init__(self, name, credit):\n",
        "        self.name = name\n",
        "        self.credit = credit\n",
        "\n",
        "class Student:\n",
        "    def __init__(self, first_name, last_name, number):\n",
        "        self.first_name = first_name\n",
        "        self.last_name = last_name\n",
        "        self.number = number\n",
        "        self.courses = {}\n",
        "\n",
        "    def __str__(self):\n",
        "        return f\"{self.first_name} {self.last_name} ({self.number})\"\n",
        "\n",
        "    def get_gpa(self):\n",
        "        total_credits = 0\n",
        "        total_weighted_marks = 0\n",
        "        for course, mark in self.courses.items():\n",
        "            total_credits += course.credit\n",
        "            total_weighted_marks += mark * course.credit\n",
        "        if total_credits == 0:\n",
        "            return 0\n",
        "        return total_weighted_marks / total_credits\n",
        "\n",
        "    def set_course_mark(self, course, mark):\n",
        "        self.courses[course] = mark\n",
        "\n",
        "    \n"
      ]
    },
    {
      "cell_type": "markdown",
      "id": "palestinian-expert",
      "metadata": {
        "id": "palestinian-expert"
      },
      "source": [
        "## University Class\n",
        "Define a university class with the followings:\n",
        "- A `name` attribute.\n",
        "- A `students` attribute that stores a list of **student objects**.\n",
        "- An `__init__` method.\n",
        "- A `__str__` method.\n",
        "- A `register_student` method.\n",
        "- A `graduate_student` method."
      ]
    },
    {
      "cell_type": "code",
      "source": [],
      "metadata": {
        "id": "ZSS6-02ZOrFt"
      },
      "id": "ZSS6-02ZOrFt",
      "execution_count": null,
      "outputs": []
    },
    {
      "cell_type": "code",
      "source": [
        "class UniversityClass:\n",
        "    def __init__(self, name):\n",
        "        self.name = name\n",
        "        self.students = []\n",
        "\n",
        "    def __str__(self):\n",
        "        return f\"University Class '{self.name}' with {len(self.students)} students\"\n",
        "\n",
        "    def register_student(self, student):\n",
        "        self.students.append(student)\n",
        "\n",
        "    def graduate_student(self, student):\n",
        "        if student in self.students:\n",
        "            self.students.remove(student)\n",
        "            print(f\"{student.name} has graduated from {self.name}!\")\n",
        "        else:\n",
        "            print(f\"{student.name} is not enrolled in {self.name}.\")\n"
      ],
      "metadata": {
        "id": "InuNn0xseH0T"
      },
      "id": "InuNn0xseH0T",
      "execution_count": null,
      "outputs": []
    }
  ],
  "metadata": {
    "kernelspec": {
      "display_name": "Python 3",
      "language": "python",
      "name": "python3"
    },
    "language_info": {
      "codemirror_mode": {
        "name": "ipython",
        "version": 3
      },
      "file_extension": ".py",
      "mimetype": "text/x-python",
      "name": "python",
      "nbconvert_exporter": "python",
      "pygments_lexer": "ipython3",
      "version": "3.8.5"
    },
    "colab": {
      "provenance": [],
      "collapsed_sections": [
        "MRELRcFaL9fQ",
        "palestinian-expert"
      ],
      "include_colab_link": true
    }
  },
  "nbformat": 4,
  "nbformat_minor": 5
}