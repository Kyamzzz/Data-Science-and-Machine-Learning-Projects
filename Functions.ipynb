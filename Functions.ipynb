{
  "cells": [
    {
      "cell_type": "markdown",
      "metadata": {
        "id": "view-in-github",
        "colab_type": "text"
      },
      "source": [
        "<a href=\"https://colab.research.google.com/github/Kyamzzz/GISMA/blob/main/Functions.ipynb\" target=\"_parent\"><img src=\"https://colab.research.google.com/assets/colab-badge.svg\" alt=\"Open In Colab\"/></a>"
      ]
    },
    {
      "cell_type": "markdown",
      "id": "qualified-overhead",
      "metadata": {
        "id": "qualified-overhead"
      },
      "source": [
        "# Functions"
      ]
    },
    {
      "cell_type": "markdown",
      "id": "geographic-kazakhstan",
      "metadata": {
        "id": "geographic-kazakhstan"
      },
      "source": [
        "## Count Non-Vowel Characters\n",
        "Write a Python function that takes a string and returns the number of non-vowel characters in that string. Vowel characters in English are `\"a\"`, `\"e\"`, `\"i\"`, `\"o\"`, and `\"u\"`. For example, given the string `\"abcdA\"`, the function should return 3."
      ]
    },
    {
      "cell_type": "code",
      "execution_count": 8,
      "id": "increased-introduction",
      "metadata": {
        "id": "increased-introduction"
      },
      "outputs": [],
      "source": [
        "def count_non_vowel(s):\n",
        "\n",
        "  sum = 0\n",
        "\n",
        "  for c in s:\n",
        "    if c not in \"aeiouAEIOU\":\n",
        "     sum +=1\n",
        "\n",
        "  return sum \n",
        "  "
      ]
    },
    {
      "cell_type": "code",
      "source": [
        "name = \"KaramveerPawar\"\n",
        "count_non_vowel(name)"
      ],
      "metadata": {
        "colab": {
          "base_uri": "https://localhost:8080/"
        },
        "id": "1vrosd8nGoC4",
        "outputId": "a713a4ef-c210-4825-da8c-23bd8ace0129"
      },
      "id": "1vrosd8nGoC4",
      "execution_count": 16,
      "outputs": [
        {
          "output_type": "execute_result",
          "data": {
            "text/plain": [
              "8"
            ]
          },
          "metadata": {},
          "execution_count": 16
        }
      ]
    },
    {
      "cell_type": "markdown",
      "id": "permanent-lawsuit",
      "metadata": {
        "id": "permanent-lawsuit"
      },
      "source": [
        "## Multiply the List Elements\n",
        "Write a Python function that takes a list of values as input and returns the product of all the numbers in the list. For example, given the input list `[1, 3, 8]`, the function should return 24."
      ]
    },
    {
      "cell_type": "code",
      "execution_count": 13,
      "id": "extensive-dividend",
      "metadata": {
        "id": "extensive-dividend",
        "colab": {
          "base_uri": "https://localhost:8080/"
        },
        "outputId": "ea347d1a-1d7a-4dcb-8dbb-2266da3dfcca"
      },
      "outputs": [
        {
          "output_type": "execute_result",
          "data": {
            "text/plain": [
              "120"
            ]
          },
          "metadata": {},
          "execution_count": 13
        }
      ],
      "source": [
        "def list_multiply(numbers):\n",
        "  mul = 1\n",
        "\n",
        "  for n in numbers:\n",
        "    mul *= n\n",
        "\n",
        "  return mul\n",
        "\n",
        "a = [1,2,3,4,5]\n",
        "list_multiply(a)"
      ]
    },
    {
      "cell_type": "markdown",
      "id": "documented-discharge",
      "metadata": {
        "id": "documented-discharge"
      },
      "source": [
        "## Check if a String is Palindrome\n",
        "Write a Python function that takes a string and returns `True` if it is palindrome. A palindrome is a word, number, phrase, or other sequence of characters which reads the same backward as forward. For example, given the string `\"abc\"` the function should return `False`. But, given the string `\"aba\"`, the function should return `True`."
      ]
    },
    {
      "cell_type": "code",
      "execution_count": 26,
      "id": "homeless-generator",
      "metadata": {
        "id": "homeless-generator",
        "colab": {
          "base_uri": "https://localhost:8080/"
        },
        "outputId": "fe0c7e2d-26b3-49db-ca8a-550d91e84eff"
      },
      "outputs": [
        {
          "output_type": "stream",
          "name": "stdout",
          "text": [
            "False\n",
            "True\n"
          ]
        }
      ],
      "source": [
        "def is_palindrome(s):\n",
        "  return s == s[::-1]\n",
        "\n",
        "  string1 = \"abc\"\n",
        "  string2 = \"aba\"\n",
        "\n",
        "print(is_palindrome(string1))\n",
        "print(is_palindrome(string2))\n"
      ]
    },
    {
      "cell_type": "markdown",
      "id": "retired-craps",
      "metadata": {
        "id": "retired-craps"
      },
      "source": [
        "## Count the Unique Digits in an Integer\n",
        "Write a Python function that takes a positive integer and returns the number of unique digits in that integer. For example, given the integer 12315, the function should return 4."
      ]
    },
    {
      "cell_type": "code",
      "execution_count": 36,
      "id": "australian-resort",
      "metadata": {
        "id": "australian-resort",
        "colab": {
          "base_uri": "https://localhost:8080/"
        },
        "outputId": "831ec9e1-b57c-495b-8b2e-8f92057d6a9c"
      },
      "outputs": [
        {
          "output_type": "execute_result",
          "data": {
            "text/plain": [
              "4"
            ]
          },
          "metadata": {},
          "execution_count": 36
        }
      ],
      "source": [
        "def count_uniqueint(s):\n",
        " digit_set = set(str(s))\n",
        " return len(digit_set)\n",
        "\n",
        "count_uniqueint(12315)"
      ]
    },
    {
      "cell_type": "markdown",
      "id": "upset-physiology",
      "metadata": {
        "id": "upset-physiology"
      },
      "source": [
        "## Check a Number is Prime\n",
        "Write a Python function that takes a number and checks the number is prime or not. It should return `True` for being prime and `False` otherwise. Note that a prime number (or a prime) is a natural number greater than 1 and that has no positive divisors other than 1 and itself. For example, the function should return `True` for the given number 7 and `False` for the given number 10."
      ]
    },
    {
      "cell_type": "code",
      "source": [
        "def is_prime(num):\n",
        "    if num <= 1:\n",
        "        return False\n",
        "    for i in range(2, num):\n",
        "        if num % i == 0:\n",
        "            return False\n",
        "    return True\n",
        "\n",
        "print (is_prime(8))\n",
        "print (is_prime(1))\n",
        "print (is_prime(13))   \n"
      ],
      "metadata": {
        "colab": {
          "base_uri": "https://localhost:8080/"
        },
        "id": "Ox4hI2eblYsR",
        "outputId": "dd06ae9d-b8ef-47d5-92b0-a7145fd8fef1"
      },
      "id": "Ox4hI2eblYsR",
      "execution_count": 54,
      "outputs": [
        {
          "output_type": "stream",
          "name": "stdout",
          "text": [
            "False\n",
            "False\n",
            "True\n"
          ]
        }
      ]
    },
    {
      "cell_type": "markdown",
      "id": "daily-console",
      "metadata": {
        "id": "daily-console"
      },
      "source": [
        "## Sort Hyphened-Seperated Words\n",
        "Write a Python function that takes a sequence of words that are separated by hyphens as input and returns the words in a hyphen-separated sequence after sorting the words alphabetically. For example, given the string `\"green-red-yellow-black-white\"`, the function should return `\"black-green-red-white-yellow\"`."
      ]
    },
    {
      "cell_type": "code",
      "execution_count": 61,
      "id": "aging-staff",
      "metadata": {
        "id": "aging-staff",
        "colab": {
          "base_uri": "https://localhost:8080/"
        },
        "outputId": "a376f4c9-2c23-417a-de08-e2fdee07a455"
      },
      "outputs": [
        {
          "output_type": "stream",
          "name": "stdout",
          "text": [
            "black-green-red-white-yellow\n"
          ]
        }
      ],
      "source": [
        "def sort_string(hyphen_string):\n",
        "    words_list = hyphen_string.split(\"-\")\n",
        "    sorted_list = sorted(words_list)\n",
        "    return \"-\".join(sorted_list)\n",
        "\n",
        "\n",
        "hyphenated_string = \"green-red-yellow-black-white\"\n",
        "sorted_string = sort_string(hyphenated_string)\n",
        "print(sorted_string)\n"
      ]
    },
    {
      "cell_type": "markdown",
      "id": "dressed-leisure",
      "metadata": {
        "id": "dressed-leisure"
      },
      "source": [
        "## Count the Characters\n",
        "Write a Python function that takes a string as input and returns a dictionary that stores the frequency of each character in the input string. For example, given the string `\"abca\"`, the function should return `{'a': 2, 'b': 1, 'c': 1}`."
      ]
    },
    {
      "cell_type": "code",
      "execution_count": 69,
      "id": "complete-stress",
      "metadata": {
        "id": "complete-stress"
      },
      "outputs": [],
      "source": [
        "def count_character(input_key):\n",
        "  character_dict = {}\n",
        "  for char in input_key:\n",
        "    if char in character_dict:\n",
        "      character_dict[char] +=1\n",
        "    else:\n",
        "      character_dict[char] = 1\n",
        "  return character_dict"
      ]
    },
    {
      "cell_type": "code",
      "source": [
        "print(count_character(\"abca\"))"
      ],
      "metadata": {
        "colab": {
          "base_uri": "https://localhost:8080/"
        },
        "id": "qxcpgkD-1XAU",
        "outputId": "006adc2c-3436-440d-cefa-babb1398cdc7"
      },
      "id": "qxcpgkD-1XAU",
      "execution_count": 70,
      "outputs": [
        {
          "output_type": "stream",
          "name": "stdout",
          "text": [
            "{'a': 2, 'b': 1, 'c': 1}\n"
          ]
        }
      ]
    },
    {
      "cell_type": "markdown",
      "id": "aerial-uganda",
      "metadata": {
        "id": "aerial-uganda"
      },
      "source": [
        "## Compute the Fibonacci Sequence\n",
        "The Fibonacci Sequence is computed based on the following formula:     \n",
        "\n",
        "$$ f(n) = 0 \\text{   if } n = 0; \\\\\n",
        "f(n) = 1 \\text{   if } n = 1; \\\\\n",
        "f(n) = f(n-1) + f(n-2) \\text{   if } n > 1. $$     \n",
        "\n",
        "Write a Python function that computes the value of `f(n)` with a given `n` as input. For example, given 7, the function should return 13."
      ]
    },
    {
      "cell_type": "code",
      "execution_count": 74,
      "id": "compatible-senate",
      "metadata": {
        "id": "compatible-senate",
        "colab": {
          "base_uri": "https://localhost:8080/"
        },
        "outputId": "d9ba074c-30ab-4afa-e59c-a6682fd0d5b1"
      },
      "outputs": [
        {
          "output_type": "stream",
          "name": "stdout",
          "text": [
            "13\n"
          ]
        }
      ],
      "source": [
        "def fibonacci(n):\n",
        "  if n<=1:\n",
        "    return n\n",
        "  else:\n",
        "    return fibonacci(n-1) + fibonacci(n-2)\n",
        "\n",
        "print (fibonacci(7))"
      ]
    }
  ],
  "metadata": {
    "kernelspec": {
      "display_name": "Python 3",
      "language": "python",
      "name": "python3"
    },
    "language_info": {
      "codemirror_mode": {
        "name": "ipython",
        "version": 3
      },
      "file_extension": ".py",
      "mimetype": "text/x-python",
      "name": "python",
      "nbconvert_exporter": "python",
      "pygments_lexer": "ipython3",
      "version": "3.8.5"
    },
    "colab": {
      "provenance": [],
      "include_colab_link": true
    }
  },
  "nbformat": 4,
  "nbformat_minor": 5
}